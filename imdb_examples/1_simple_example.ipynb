{
  "nbformat": 4,
  "nbformat_minor": 0,
  "metadata": {
    "colab": {
      "name": "PyTorch IMDB",
      "provenance": [],
      "collapsed_sections": []
    },
    "kernelspec": {
      "name": "python3",
      "display_name": "Python 3"
    },
    "accelerator": "GPU"
  },
  "cells": [
    {
      "cell_type": "markdown",
      "metadata": {
        "id": "-3NT3oZEe6gP",
        "colab_type": "text"
      },
      "source": [
        "# Sentiment Analysis con PyTorch sobre IMDB\n",
        "\n",
        "Basado en [esta notebook](https://github.com/bentrevett/pytorch-sentiment-analysis/blob/master/1%20-%20Simple%20Sentiment%20Analysis.ipynb)"
      ]
    },
    {
      "cell_type": "code",
      "metadata": {
        "id": "FXcwH3yO1zzY",
        "colab_type": "code",
        "colab": {}
      },
      "source": [
        "\n",
        "import torch\n",
        "from torchtext import data\n",
        "\n",
        "SEED = 1234\n",
        "\n",
        "torch.manual_seed(SEED)\n",
        "torch.backends.cudnn.deterministic = True\n",
        "\n",
        "LABEL = data.LabelField(dtype = torch.float)"
      ],
      "execution_count": 0,
      "outputs": []
    },
    {
      "cell_type": "markdown",
      "metadata": {
        "id": "IPLW2EJUfawa",
        "colab_type": "text"
      },
      "source": [
        "Vamos a cargar el dataset de IMDB mediante [`torchtext`](https://github.com/pytorch/text)\n",
        "\n",
        "`torch/text` es un conjunto de funcionalidades específicas para NLP. También contiene varios datasets útiles :-)\n",
        "\n",
        "Vamos a usar `data.Field`. Es la principal clase de `torchtext`: representa cómo obtener datos de nuestro texto.\n",
        "\n",
        "En nuestro caso, le diremos que queremos usar el tokenizador de `spacy`"
      ]
    },
    {
      "cell_type": "code",
      "metadata": {
        "id": "FaojopC_iQ28",
        "colab_type": "code",
        "colab": {}
      },
      "source": [
        "TEXT = data.Field(tokenize = 'spacy')"
      ],
      "execution_count": 0,
      "outputs": []
    },
    {
      "cell_type": "markdown",
      "metadata": {
        "id": "KRoK9a57klKQ",
        "colab_type": "text"
      },
      "source": [
        "Para los labels, usaremos una subclase: `LabelField`"
      ]
    },
    {
      "cell_type": "code",
      "metadata": {
        "id": "0XU9eex-kpGx",
        "colab_type": "code",
        "colab": {}
      },
      "source": [
        "LABEL = data.LabelField(dtype = torch.float)"
      ],
      "execution_count": 0,
      "outputs": []
    },
    {
      "cell_type": "markdown",
      "metadata": {
        "id": "Hr3iU_KpksPT",
        "colab_type": "text"
      },
      "source": [
        "Carguemos el dataset de IMDB, que son 50k reviews. El split de train y test ya está predefinido, así que utilizamos eso\n",
        "\n",
        "(esto tarda un minutito)"
      ]
    },
    {
      "cell_type": "code",
      "metadata": {
        "id": "MOW2IKs614ie",
        "colab_type": "code",
        "colab": {
          "base_uri": "https://localhost:8080/",
          "height": 53
        },
        "outputId": "5148b275-b160-4f8f-8b9d-e82e5fb245be"
      },
      "source": [
        "from torchtext import datasets\n",
        "\n",
        "train_data, test_data = datasets.IMDB.splits(TEXT, LABEL)"
      ],
      "execution_count": 4,
      "outputs": [
        {
          "output_type": "stream",
          "text": [
            "downloading aclImdb_v1.tar.gz\n"
          ],
          "name": "stdout"
        },
        {
          "output_type": "stream",
          "text": [
            "aclImdb_v1.tar.gz: 100%|██████████| 84.1M/84.1M [00:07<00:00, 11.2MB/s]\n"
          ],
          "name": "stderr"
        }
      ]
    },
    {
      "cell_type": "markdown",
      "metadata": {
        "id": "Yi44qr-HlKJK",
        "colab_type": "text"
      },
      "source": [
        "Veamos cuántos ejemplos nos quedaron"
      ]
    },
    {
      "cell_type": "code",
      "metadata": {
        "id": "ZeLmY6LP3BmU",
        "colab_type": "code",
        "colab": {
          "base_uri": "https://localhost:8080/",
          "height": 53
        },
        "outputId": "599916ed-86b0-466c-b867-29140231f454"
      },
      "source": [
        "print(f'Number of training examples: {len(train_data)}')\n",
        "print(f'Number of testing examples: {len(test_data)}')"
      ],
      "execution_count": 5,
      "outputs": [
        {
          "output_type": "stream",
          "text": [
            "Number of training examples: 25000\n",
            "Number of testing examples: 25000\n"
          ],
          "name": "stdout"
        }
      ]
    },
    {
      "cell_type": "code",
      "metadata": {
        "id": "32gt53xz5AnA",
        "colab_type": "code",
        "colab": {
          "base_uri": "https://localhost:8080/",
          "height": 557
        },
        "outputId": "341df6e9-0e5a-4370-9d14-a919c118a6a9"
      },
      "source": [
        "from pprint import pprint\n",
        "\n",
        "pprint(train_data.examples[0].text, compact=True)"
      ],
      "execution_count": 6,
      "outputs": [
        {
          "output_type": "stream",
          "text": [
            "['A', 'toothsome', 'little', 'potboiler', 'whose', '65-minute', 'length',\n",
            " 'does', \"n't\", 'seem', 'a', 'second', 'too', 'short', ',', 'My', 'Name', 'is',\n",
            " 'Julia', 'Ross', 'harks', 'back', 'to', 'an', 'English', 'tradition', 'of',\n",
            " 'things', 'not', 'being', 'what', 'they', 'seem', '--', 'Hitchcock', \"'s\",\n",
            " 'The', 'Lady', 'Vanishes', 'is', 'one', 'example', '.', 'Out', '-', 'of', '-',\n",
            " 'work', 'Julia', 'Ross', '(', 'Nina', 'Foch', ')', 'finds', 'a', 'dream',\n",
            " 'job', 'at', 'a', 'new', 'employment', 'agency', 'in', 'London', ',', 'whose',\n",
            " 'sinister', 'representative', 'seems', 'very', 'anxious', 'to', 'ascertain',\n",
            " 'if', 'she', 'has', 'living', 'relatives', 'or', 'a', 'boyfriend', '.',\n",
            " 'After', 'reporting', 'to', 'duty', ',', 'she', 'wakes', 'up', '(', 'Having',\n",
            " 'Been', 'Drugged', ')', 'in', 'a', 'vast', 'Manderley', '-', 'like', 'pile',\n",
            " 'on', 'the', 'Cornish', 'coast', ',', 'supposedly', 'as', 'the', 'barmy', '-',\n",
            " 'in', '-', 'the', '-', 'crumpet', 'wife', 'of', 'George', 'Macready', ',',\n",
            " 'who', 'displays', 'an', 'alarming', 'interest', 'in', 'knives', 'and', 'ice',\n",
            " 'picks', '.', 'His', 'doting', ',', 'enabling', 'mum', 'is', 'the',\n",
            " 'irresistible', 'Dame', 'May', 'Whitty', '(', 'this', 'time', 'a', 'model',\n",
            " 'of', 'bustling', 'efficiency', 'on', 'the', 'other', 'side', 'of', 'good',\n",
            " '-', 'vs', '-', 'evil', 'than', 'she', 'occupied', 'in', 'The', 'Lady',\n",
            " 'Vanishes', ')', '.', 'The', 'nightmare', 'vision', 'of', 'this', 'tale',\n",
            " 'unfolds', 'claustrophobically', ';', 'we', 'know', 'what', \"'s\", 'going',\n",
            " 'on', 'but', 'are', 'powerless', 'to', 'tell', 'poor', 'Julia', '.', 'This',\n",
            " 'movie', ',', 'curiously', ',', 'is', 'regularly', 'accorded', 'a', 'place',\n",
            " 'of', 'honor', 'as', 'one', 'of', 'the', 'earliest', '(', 'and', 'very', 'few',\n",
            " 'British', ')', 'films', 'noirs', '.', 'I', 'think', 'it', \"'s\", 'closer',\n",
            " 'to', 'the', 'Gothic', 'old', '-', 'dark', '-', 'house', 'tradition', 'than',\n",
            " 'the', 'American', 'one', 'of', 'wet', 'cobblestones', 'and', 'urban',\n",
            " 'corruption', ';', 'it', 'does', ',', 'however', ',', 'evince', 'a', 'more',\n",
            " 'modern', ',', 'psychoanalytic', 'cast', 'of', 'mind', '.', 'Whatever', 'you',\n",
            " 'call', 'it', ',', 'it', 'remains', 'a', 'sharply', 'satisfying', 'thriller',\n",
            " '.']\n"
          ],
          "name": "stdout"
        }
      ]
    },
    {
      "cell_type": "markdown",
      "metadata": {
        "id": "v6XWL5nymoCz",
        "colab_type": "text"
      },
      "source": [
        "## Validación\n",
        "\n",
        "Separemos un pedacito para hacer validación"
      ]
    },
    {
      "cell_type": "code",
      "metadata": {
        "id": "a_ZHx6dm5QGw",
        "colab_type": "code",
        "colab": {}
      },
      "source": [
        "import random\n",
        "\n",
        "train_data, valid_data = train_data.split(random_state = random.seed(SEED))\n"
      ],
      "execution_count": 0,
      "outputs": []
    },
    {
      "cell_type": "code",
      "metadata": {
        "id": "kYe5zKwfmqtW",
        "colab_type": "code",
        "colab": {
          "base_uri": "https://localhost:8080/",
          "height": 35
        },
        "outputId": "e5a21b33-75b1-4b80-ed04-c40f78a29c1d"
      },
      "source": [
        "len(train_data), len(valid_data)"
      ],
      "execution_count": 8,
      "outputs": [
        {
          "output_type": "execute_result",
          "data": {
            "text/plain": [
              "(17500, 7500)"
            ]
          },
          "metadata": {
            "tags": []
          },
          "execution_count": 8
        }
      ]
    },
    {
      "cell_type": "code",
      "metadata": {
        "id": "LgfRyDk4nJJF",
        "colab_type": "code",
        "colab": {
          "base_uri": "https://localhost:8080/",
          "height": 71
        },
        "outputId": "8d8c99c4-f69b-4d2a-a619-16f5e3357060"
      },
      "source": [
        "print(f'Number of training examples: {len(train_data)}')\n",
        "print(f'Number of validation examples: {len(valid_data)}')\n",
        "print(f'Number of testing examples: {len(test_data)}')"
      ],
      "execution_count": 9,
      "outputs": [
        {
          "output_type": "stream",
          "text": [
            "Number of training examples: 17500\n",
            "Number of validation examples: 7500\n",
            "Number of testing examples: 25000\n"
          ],
          "name": "stdout"
        }
      ]
    },
    {
      "cell_type": "markdown",
      "metadata": {
        "id": "tUT8u8F5nIKt",
        "colab_type": "text"
      },
      "source": [
        "## Vocabulario\n",
        "\n",
        "Vamos a armar el vocabulario."
      ]
    },
    {
      "cell_type": "code",
      "metadata": {
        "id": "JGak4jMCYllK",
        "colab_type": "code",
        "colab": {}
      },
      "source": [
        "TEXT.build_vocab(train_data)\n",
        "LABEL.build_vocab(train_data)"
      ],
      "execution_count": 0,
      "outputs": []
    },
    {
      "cell_type": "markdown",
      "metadata": {
        "id": "3J8ncCBWeTnc",
        "colab_type": "text"
      },
      "source": [
        "Ahora, en `TEXT.vocab` está nuestro vocabulario"
      ]
    },
    {
      "cell_type": "code",
      "metadata": {
        "id": "gdGRVRX_nO1d",
        "colab_type": "code",
        "colab": {
          "base_uri": "https://localhost:8080/",
          "height": 35
        },
        "outputId": "0dfe4136-91e7-4589-e0e9-2f309f2c18cd"
      },
      "source": [
        "\n",
        "len(TEXT.vocab)"
      ],
      "execution_count": 11,
      "outputs": [
        {
          "output_type": "execute_result",
          "data": {
            "text/plain": [
              "101282"
            ]
          },
          "metadata": {
            "tags": []
          },
          "execution_count": 11
        }
      ]
    },
    {
      "cell_type": "markdown",
      "metadata": {
        "id": "2YQIJU2XnVUf",
        "colab_type": "text"
      },
      "source": [
        "101k palabras! Es un montón. Reduzcamos un poquito..."
      ]
    },
    {
      "cell_type": "code",
      "metadata": {
        "id": "3u3aXVKcnaz0",
        "colab_type": "code",
        "colab": {
          "base_uri": "https://localhost:8080/",
          "height": 35
        },
        "outputId": "2dd39472-b32d-4d2c-83f4-8b0d9c83fed9"
      },
      "source": [
        "MAX_VOCAB_SIZE = 25_000\n",
        "\n",
        "TEXT.build_vocab(train_data, max_size = MAX_VOCAB_SIZE)\n",
        "LABEL.build_vocab(train_data)\n",
        "\n",
        "len(TEXT.vocab), len(LABEL.vocab)"
      ],
      "execution_count": 12,
      "outputs": [
        {
          "output_type": "execute_result",
          "data": {
            "text/plain": [
              "(25002, 2)"
            ]
          },
          "metadata": {
            "tags": []
          },
          "execution_count": 12
        }
      ]
    },
    {
      "cell_type": "markdown",
      "metadata": {
        "id": "HrABU9IwnpN1",
        "colab_type": "text"
      },
      "source": [
        "Veamos cómo se ve el vocabulario"
      ]
    },
    {
      "cell_type": "code",
      "metadata": {
        "id": "uQvPINtScjWt",
        "colab_type": "code",
        "colab": {
          "base_uri": "https://localhost:8080/",
          "height": 557
        },
        "outputId": "3fc5f49c-e62d-44d9-b2e7-02de1210e05e"
      },
      "source": [
        "index_to_string = vars(TEXT.vocab)[\"itos\"]\n",
        "\n",
        "for i, s in enumerate(index_to_string[:30]):\n",
        "    print(f\"{i:<2} --> {s}\")"
      ],
      "execution_count": 13,
      "outputs": [
        {
          "output_type": "stream",
          "text": [
            "0  --> <unk>\n",
            "1  --> <pad>\n",
            "2  --> the\n",
            "3  --> ,\n",
            "4  --> .\n",
            "5  --> and\n",
            "6  --> a\n",
            "7  --> of\n",
            "8  --> to\n",
            "9  --> is\n",
            "10 --> in\n",
            "11 --> I\n",
            "12 --> it\n",
            "13 --> that\n",
            "14 --> \"\n",
            "15 --> 's\n",
            "16 --> this\n",
            "17 --> -\n",
            "18 --> /><br\n",
            "19 --> was\n",
            "20 --> as\n",
            "21 --> movie\n",
            "22 --> with\n",
            "23 --> for\n",
            "24 --> film\n",
            "25 --> The\n",
            "26 --> but\n",
            "27 --> (\n",
            "28 --> )\n",
            "29 --> on\n"
          ],
          "name": "stdout"
        }
      ]
    },
    {
      "cell_type": "markdown",
      "metadata": {
        "id": "G7DX_UDXn1gh",
        "colab_type": "text"
      },
      "source": [
        "Veamos cómo quedó `LABEL`"
      ]
    },
    {
      "cell_type": "code",
      "metadata": {
        "id": "3dSvTcmYeEXI",
        "colab_type": "code",
        "colab": {
          "base_uri": "https://localhost:8080/",
          "height": 35
        },
        "outputId": "00208189-8a57-4fac-c4e7-81facb296929"
      },
      "source": [
        "print(LABEL.vocab.stoi)"
      ],
      "execution_count": 14,
      "outputs": [
        {
          "output_type": "stream",
          "text": [
            "defaultdict(<function _default_unk_index at 0x7f5dd59eaae8>, {'neg': 0, 'pos': 1})\n"
          ],
          "name": "stdout"
        }
      ]
    },
    {
      "cell_type": "markdown",
      "metadata": {
        "id": "mDSECIndnEYh",
        "colab_type": "text"
      },
      "source": [
        "## Entrenando al modelo\n",
        "\n",
        "Vamos a usar `data.BucketIterator` que trata de devolvernos ejemplos con mismo tamaño (para evitar tanto padding y facilitar el packing previo a usar una RNN)"
      ]
    },
    {
      "cell_type": "code",
      "metadata": {
        "id": "QF2cDvd4oK0V",
        "colab_type": "code",
        "colab": {}
      },
      "source": [
        "BATCH_SIZE = 64\n",
        "\n",
        "device = torch.device('cuda' if torch.cuda.is_available() else 'cpu')\n",
        "\n",
        "train_iterator, valid_iterator, test_iterator = data.BucketIterator.splits(\n",
        "    (train_data, valid_data, test_data), \n",
        "    batch_size = BATCH_SIZE,\n",
        "    device = device)"
      ],
      "execution_count": 0,
      "outputs": []
    },
    {
      "cell_type": "code",
      "metadata": {
        "id": "YOdzwSV9oLHh",
        "colab_type": "code",
        "colab": {}
      },
      "source": [
        "import torch.nn as nn\n",
        "\n",
        "class Model(nn.Module):\n",
        "    def __init__(self, input_dim, embedding_dim, hidden_dim, output_dim):\n",
        "        super().__init__()\n",
        "\n",
        "        self.embedding = nn.Embedding(input_dim, embedding_dim)\n",
        "        self.rnn = nn.GRU(embedding_dim, hidden_dim)\n",
        "        self.fc = nn.Linear(hidden_dim, output_dim)\n",
        "        \n",
        "    def forward(self, text):\n",
        "        #text = [sent len, batch size]\n",
        "        embedded = self.embedding(text)\n",
        "        \n",
        "        #embedded = [sent len, batch size, emb dim]\n",
        "        output, hidden = self.rnn(embedded)\n",
        "        #output = [sent len, batch size, hid dim]\n",
        "        #hidden = [1, batch size, hid dim]\n",
        "        assert torch.equal(output[-1,:,:], hidden.squeeze(0))\n",
        "        \n",
        "        return self.fc(hidden.squeeze(0))"
      ],
      "execution_count": 0,
      "outputs": []
    },
    {
      "cell_type": "markdown",
      "metadata": {
        "id": "S3tfzBTBqu78",
        "colab_type": "text"
      },
      "source": [
        "Ahora: creamos el modelo\n",
        "\n",
        "- Input dim: cantidad de palabras\n",
        "- Embedding dim: 100 (inicializados random)\n",
        "- Capa hidden (salida RNN): 256\n",
        "- Output-dim: 1 si positivo, 0 en otro caso (binario)\n"
      ]
    },
    {
      "cell_type": "code",
      "metadata": {
        "id": "Oaftc177qAvr",
        "colab_type": "code",
        "colab": {}
      },
      "source": [
        "INPUT_DIM = len(TEXT.vocab)\n",
        "EMBEDDING_DIM = 100\n",
        "HIDDEN_DIM = 256\n",
        "OUTPUT_DIM = 1\n",
        "\n",
        "model = Model(INPUT_DIM, EMBEDDING_DIM, HIDDEN_DIM, OUTPUT_DIM)"
      ],
      "execution_count": 0,
      "outputs": []
    },
    {
      "cell_type": "code",
      "metadata": {
        "id": "VBcrdpbiqmrF",
        "colab_type": "code",
        "colab": {}
      },
      "source": [
        "\n",
        "criterion = nn.BCEWithLogitsLoss()"
      ],
      "execution_count": 0,
      "outputs": []
    },
    {
      "cell_type": "code",
      "metadata": {
        "id": "pdiQZhyZq-5J",
        "colab_type": "code",
        "colab": {
          "base_uri": "https://localhost:8080/",
          "height": 107
        },
        "outputId": "05b50068-439a-4e57-a25b-1f552cff7945"
      },
      "source": [
        "model.to(device)\n",
        "criterion.to(device)"
      ],
      "execution_count": 19,
      "outputs": [
        {
          "output_type": "execute_result",
          "data": {
            "text/plain": [
              "Model(\n",
              "  (embedding): Embedding(25002, 100)\n",
              "  (rnn): GRU(100, 256)\n",
              "  (fc): Linear(in_features=256, out_features=1, bias=True)\n",
              ")"
            ]
          },
          "metadata": {
            "tags": []
          },
          "execution_count": 19
        }
      ]
    },
    {
      "cell_type": "markdown",
      "metadata": {
        "id": "Wf9NyNTHv4xH",
        "colab_type": "text"
      },
      "source": [
        "PAra calcular el accuracy, vamos a calcularle `sigmoid` a la salida. Por cuestiones de estabilidad con el cálculo de la entropía cruzada, la salida del modelo son los logits en vez de la probabilidad.\n"
      ]
    },
    {
      "cell_type": "code",
      "metadata": {
        "id": "UevwyOSIq_sc",
        "colab_type": "code",
        "colab": {}
      },
      "source": [
        "def binary_accuracy(preds, y):\n",
        "    \"\"\"\n",
        "    Returns accuracy per batch, i.e. if you get 8/10 right, this returns 0.8, NOT 8\n",
        "    \"\"\"\n",
        "\n",
        "    #round predictions to the closest integer\n",
        "    rounded_preds = torch.round(torch.sigmoid(preds))\n",
        "    correct = (rounded_preds == y).float() #convert into float for division \n",
        "    acc = correct.sum() / len(correct)\n",
        "    return acc"
      ],
      "execution_count": 0,
      "outputs": []
    },
    {
      "cell_type": "markdown",
      "metadata": {
        "id": "2_2-h3E-wWJh",
        "colab_type": "text"
      },
      "source": [
        "Definimos una función para entrenar..."
      ]
    },
    {
      "cell_type": "code",
      "metadata": {
        "id": "007PqoUFwT_-",
        "colab_type": "code",
        "colab": {}
      },
      "source": [
        "def train(model, iterator, optimizer, criterion):\n",
        "    \n",
        "    epoch_loss = 0\n",
        "    epoch_acc = 0\n",
        "    \n",
        "    model.train()\n",
        "    \n",
        "    for batch in iterator:\n",
        "        \n",
        "        optimizer.zero_grad()\n",
        "                \n",
        "        predictions = model(batch.text).squeeze(1)\n",
        "        \n",
        "        loss = criterion(predictions, batch.label)\n",
        "        \n",
        "        acc = binary_accuracy(predictions, batch.label)\n",
        "        \n",
        "        loss.backward()\n",
        "        \n",
        "        optimizer.step()\n",
        "        \n",
        "        epoch_loss += loss.item()\n",
        "        epoch_acc += acc.item()\n",
        "        \n",
        "    return epoch_loss / len(iterator), epoch_acc / len(iterator)"
      ],
      "execution_count": 0,
      "outputs": []
    },
    {
      "cell_type": "code",
      "metadata": {
        "id": "G6q1YsROwUam",
        "colab_type": "code",
        "colab": {}
      },
      "source": [
        "def evaluate(model, iterator, criterion):\n",
        "    \n",
        "    epoch_loss = 0\n",
        "    epoch_acc = 0\n",
        "    \n",
        "    model.eval()\n",
        "    \n",
        "    with torch.no_grad():\n",
        "    \n",
        "        for batch in iterator:\n",
        "\n",
        "            predictions = model(batch.text).squeeze(1)\n",
        "            loss = criterion(predictions, batch.label)\n",
        "            acc = binary_accuracy(predictions, batch.label)\n",
        "\n",
        "            epoch_loss += loss.item()\n",
        "            epoch_acc += acc.item()\n",
        "        \n",
        "    return epoch_loss / len(iterator), epoch_acc / len(iterator)"
      ],
      "execution_count": 0,
      "outputs": []
    },
    {
      "cell_type": "code",
      "metadata": {
        "id": "tqwlCMroxB0S",
        "colab_type": "code",
        "colab": {}
      },
      "source": [
        "import time\n",
        "\n",
        "def epoch_time(start_time, end_time):\n",
        "    elapsed_time = end_time - start_time\n",
        "    elapsed_mins = int(elapsed_time / 60)\n",
        "    elapsed_secs = int(elapsed_time - (elapsed_mins * 60))\n",
        "    return elapsed_mins, elapsed_secs"
      ],
      "execution_count": 0,
      "outputs": []
    },
    {
      "cell_type": "code",
      "metadata": {
        "id": "8sY1gEJ3xIvp",
        "colab_type": "code",
        "colab": {}
      },
      "source": [
        "import torch.optim as optim\n",
        "\n",
        "optimizer = optim.Adam(model.parameters(), lr=1e-3)"
      ],
      "execution_count": 0,
      "outputs": []
    },
    {
      "cell_type": "code",
      "metadata": {
        "id": "amguQfKcxCGa",
        "colab_type": "code",
        "colab": {
          "base_uri": "https://localhost:8080/",
          "height": 287
        },
        "outputId": "d748f061-ea74-43c2-91ec-f4912cce16d8"
      },
      "source": [
        "N_EPOCHS = 5\n",
        "\n",
        "best_valid_loss = float('inf')\n",
        "\n",
        "for epoch in range(N_EPOCHS):\n",
        "\n",
        "    start_time = time.time()\n",
        "    \n",
        "    train_loss, train_acc = train(model, train_iterator, optimizer, criterion)\n",
        "    valid_loss, valid_acc = evaluate(model, valid_iterator, criterion)\n",
        "    \n",
        "    end_time = time.time()\n",
        "\n",
        "    epoch_mins, epoch_secs = epoch_time(start_time, end_time)\n",
        "    \n",
        "    if valid_loss < best_valid_loss:\n",
        "        best_valid_loss = valid_loss\n",
        "        torch.save(model.state_dict(), 'tut1-model.pt')\n",
        "    \n",
        "    print(f'Epoch: {epoch+1:02} | Epoch Time: {epoch_mins}m {epoch_secs}s')\n",
        "    print(f'\\tTrain Loss: {train_loss:.3f} | Train Acc: {train_acc*100:.2f}%')\n",
        "    print(f'\\t Val. Loss: {valid_loss:.3f} |  Val. Acc: {valid_acc*100:.2f}%')\n"
      ],
      "execution_count": 28,
      "outputs": [
        {
          "output_type": "stream",
          "text": [
            "Epoch: 01 | Epoch Time: 1m 2s\n",
            "\tTrain Loss: 0.698 | Train Acc: 49.98%\n",
            "\t Val. Loss: 0.692 |  Val. Acc: 51.78%\n",
            "Epoch: 02 | Epoch Time: 1m 1s\n",
            "\tTrain Loss: 0.694 | Train Acc: 50.28%\n",
            "\t Val. Loss: 0.693 |  Val. Acc: 50.76%\n",
            "Epoch: 03 | Epoch Time: 1m 2s\n",
            "\tTrain Loss: 0.693 | Train Acc: 49.57%\n",
            "\t Val. Loss: 0.692 |  Val. Acc: 51.21%\n",
            "Epoch: 04 | Epoch Time: 1m 2s\n",
            "\tTrain Loss: 0.693 | Train Acc: 50.38%\n",
            "\t Val. Loss: 0.696 |  Val. Acc: 50.72%\n",
            "Epoch: 05 | Epoch Time: 1m 1s\n",
            "\tTrain Loss: 0.694 | Train Acc: 49.99%\n",
            "\t Val. Loss: 0.701 |  Val. Acc: 49.73%\n"
          ],
          "name": "stdout"
        }
      ]
    },
    {
      "cell_type": "markdown",
      "metadata": {
        "id": "bVmDDgkSxE6d",
        "colab_type": "text"
      },
      "source": [
        "Como vemos, no está mejorando el modelo :-\\ Tenemos algunos problemas acá:\n",
        "\n",
        "- Usamos embeddings random\n",
        "- No estamos regularizando\n",
        "\n",
        "Vamos a mejorar esto en la siguiente notebook"
      ]
    },
    {
      "cell_type": "code",
      "metadata": {
        "id": "X37tjQEJyEvK",
        "colab_type": "code",
        "colab": {}
      },
      "source": [
        ""
      ],
      "execution_count": 0,
      "outputs": []
    }
  ]
}